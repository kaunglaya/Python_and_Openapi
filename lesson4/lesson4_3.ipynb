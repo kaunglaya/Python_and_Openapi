{
 "cells": [
  {
   "cell_type": "code",
   "execution_count": null,
   "metadata": {},
   "outputs": [],
   "source": [
    "class Person:\n",
    "    def __init__(self,name:str,age:int):\n",
    "        self.name = name #attribute 儲存值\n",
    "        self.age = age #attribute\n",
    "#實體方法(instance method)\n",
    "    def echo(self):\n",
    "        print(f'我的名字是:{self.name}')\n",
    "        print(f'我的歲數是:{self.age}')"
   ]
  },
  {
   "cell_type": "code",
   "execution_count": 34,
   "metadata": {},
   "outputs": [
    {
     "name": "stdout",
     "output_type": "stream",
     "text": [
      "我的名字是:kaunglaya\n",
      "我的歲數是:28\n"
     ]
    }
   ],
   "source": [
    "p1 = Person('kaunglaya',age=28)\n",
    "p1.echo()"
   ]
  },
  {
   "cell_type": "code",
   "execution_count": 37,
   "metadata": {},
   "outputs": [
    {
     "name": "stdout",
     "output_type": "stream",
     "text": [
      "我的名字是:Leon\n",
      "我的歲數是:30\n"
     ]
    }
   ],
   "source": [
    "p2 = Person(age=30,name='Leon')\n",
    "p2.echo()"
   ]
  }
 ],
 "metadata": {
  "kernelspec": {
   "display_name": "base",
   "language": "python",
   "name": "python3"
  },
  "language_info": {
   "codemirror_mode": {
    "name": "ipython",
    "version": 3
   },
   "file_extension": ".py",
   "mimetype": "text/x-python",
   "name": "python",
   "nbconvert_exporter": "python",
   "pygments_lexer": "ipython3",
   "version": "3.12.7"
  }
 },
 "nbformat": 4,
 "nbformat_minor": 2
}
