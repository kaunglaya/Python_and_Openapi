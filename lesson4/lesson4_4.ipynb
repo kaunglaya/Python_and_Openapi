{
 "cells": [
  {
   "cell_type": "code",
   "execution_count": null,
   "metadata": {},
   "outputs": [],
   "source": [
    "class Person:\n",
    "    def __init__(self,name:str,age:int):\n",
    "        self.name = name #attribute 儲存值\n",
    "        self.age = age #attribute\n",
    "#實體方法(instance method)\n",
    "    def echo(self):\n",
    "        print(f'我的名字是:{self.name}')\n",
    "        print(f'我的歲數是:{self.age}')\n",
    "        "
   ]
  },
  {
   "cell_type": "code",
   "execution_count": 21,
   "metadata": {},
   "outputs": [],
   "source": [
    "class Student(Person):\n",
    "    def __init__(self,name:str,age:int,score:int):\n",
    "        super().__init__(name=name,age=age) #將上面的def init(self)的名字跟歲數繼承\n",
    "        #super() 可以將原有多個儲存值寫在一起後繼承 -> 用一個程式碼代表\n",
    "        self.__score = score\n",
    "\n",
    "    @property #與屬性一樣故不用()\n",
    "    def score(self)->int:\n",
    "        return self.__score #分數會被保護 無法被修改\n",
    "\n",
    "    def echo(self):\n",
    "        super().echo() #將上面的def echo(self)的名字跟歲數繼承下來\n",
    "        print(f'我的分數是:{self.score}')"
   ]
  },
  {
   "cell_type": "code",
   "execution_count": 22,
   "metadata": {},
   "outputs": [
    {
     "name": "stdout",
     "output_type": "stream",
     "text": [
      "我的名字是:Woody\n",
      "我的歲數是:32\n",
      "我的分數是:100\n"
     ]
    }
   ],
   "source": [
    "s1:Student = Student('Woody',age=32,score=100)\n",
    "s1.score\n",
    "s1.echo()"
   ]
  },
  {
   "cell_type": "code",
   "execution_count": 16,
   "metadata": {},
   "outputs": [
    {
     "name": "stdout",
     "output_type": "stream",
     "text": [
      "我的名字是:Steve\n",
      "我的歲數是:28\n",
      "我的分數是:98\n"
     ]
    }
   ],
   "source": [
    "s2 = Student(age=28,name='Steve',score=98)\n",
    "s2.echo()"
   ]
  }
 ],
 "metadata": {
  "kernelspec": {
   "display_name": "base",
   "language": "python",
   "name": "python3"
  },
  "language_info": {
   "codemirror_mode": {
    "name": "ipython",
    "version": 3
   },
   "file_extension": ".py",
   "mimetype": "text/x-python",
   "name": "python",
   "nbconvert_exporter": "python",
   "pygments_lexer": "ipython3",
   "version": "3.12.7"
  }
 },
 "nbformat": 4,
 "nbformat_minor": 2
}
