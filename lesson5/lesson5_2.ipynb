{
 "cells": [
  {
   "cell_type": "code",
   "execution_count": null,
   "metadata": {},
   "outputs": [],
   "source": [
    "class Item:\n",
    "    def __init__(self, name:str, price:int):\n",
    "        self.name = name\n",
    "        self.price = price\n",
    "\n",
    "items:list[Item] = [\n",
    "        Item(\"apple\",20),\n",
    "        Item(\"banana\",30),\n",
    "        Item(\"orange\",10)]\n",
    "\n",
    "#def abc(x:Item)->int:  #告知用價格去排序\n",
    "    #return x.price\n",
    "\n",
    "newItems = sorted(items,key=lambda x:x.price)\n",
    "for item in newItems:\n",
    "    print(item.name)\n",
    "    print(item.price)\n",
    "    print(\"=============\")\n",
    "\n",
    "\n"
   ]
  },
  {
   "cell_type": "code",
   "execution_count": 6,
   "metadata": {},
   "outputs": [],
   "source": [
    "items:list[dict] = [\n",
    "    {\"name\":\"apple\",\"price\":20},\n",
    "    {\"name\":\"banana\",\"price\":30},\n",
    "    {\"name\":\"orange\",\"price\":10}\n",
    "]"
   ]
  },
  {
   "cell_type": "code",
   "execution_count": 5,
   "metadata": {},
   "outputs": [
    {
     "data": {
      "text/plain": [
       "('apple', 20)"
      ]
     },
     "execution_count": 5,
     "metadata": {},
     "output_type": "execute_result"
    }
   ],
   "source": [
    "item:dict = {\"name\":\"apple\",\"price\":20}\n",
    "\n",
    "item[\"name\"],item[\"price\"]"
   ]
  }
 ],
 "metadata": {
  "kernelspec": {
   "display_name": "base",
   "language": "python",
   "name": "python3"
  },
  "language_info": {
   "codemirror_mode": {
    "name": "ipython",
    "version": 3
   },
   "file_extension": ".py",
   "mimetype": "text/x-python",
   "name": "python",
   "nbconvert_exporter": "python",
   "pygments_lexer": "ipython3",
   "version": "3.12.7"
  }
 },
 "nbformat": 4,
 "nbformat_minor": 2
}
