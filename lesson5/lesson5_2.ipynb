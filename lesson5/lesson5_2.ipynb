{
 "cells": [
  {
   "cell_type": "code",
   "execution_count": null,
   "metadata": {},
   "outputs": [
    {
     "name": "stdout",
     "output_type": "stream",
     "text": [
      "orange\n",
      "10\n",
      "=============\n",
      "apple\n",
      "20\n",
      "=============\n",
      "banana\n",
      "30\n",
      "=============\n"
     ]
    }
   ],
   "source": [
    "class Item:\n",
    "    def __init__(self, name:str, price:int):\n",
    "        self.name = name\n",
    "        self.price = price\n",
    "\n",
    "items = [\n",
    "        Item(\"apple\",20),\n",
    "        Item(\"banana\",30),\n",
    "        Item(\"orange\",10)]\n",
    "\n",
    "def abc(x:Item)->int:  #告知用價格去排序\n",
    "    return x.price\n",
    "\n",
    "newItems = sorted(items,key=abc)\n",
    "for item in newItems:\n",
    "    print(item.name)\n",
    "    print(item.price)\n",
    "    print(\"=============\")\n",
    "\n",
    "\n"
   ]
  }
 ],
 "metadata": {
  "kernelspec": {
   "display_name": "base",
   "language": "python",
   "name": "python3"
  },
  "language_info": {
   "codemirror_mode": {
    "name": "ipython",
    "version": 3
   },
   "file_extension": ".py",
   "mimetype": "text/x-python",
   "name": "python",
   "nbconvert_exporter": "python",
   "pygments_lexer": "ipython3",
   "version": "3.12.7"
  }
 },
 "nbformat": 4,
 "nbformat_minor": 2
}
