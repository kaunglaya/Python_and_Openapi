{
 "cells": [
  {
   "cell_type": "markdown",
   "metadata": {},
   "source": [
    "python內建資料結構\n",
    ".list\n",
    ".dict(dictionary)\n",
    ".set\n"
   ]
  }
 ],
 "metadata": {
  "language_info": {
   "name": "python"
  }
 },
 "nbformat": 4,
 "nbformat_minor": 2
}
