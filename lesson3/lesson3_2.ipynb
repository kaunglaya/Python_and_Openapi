{
 "cells": [
  {
   "cell_type": "code",
   "execution_count": 9,
   "metadata": {},
   "outputs": [
    {
     "name": "stdout",
     "output_type": "stream",
     "text": [
      "猜數字遊戲\n",
      "60\n"
     ]
    }
   ],
   "source": [
    "import random\n",
    "min = 1\n",
    "max = 100\n",
    "target = random.randint(min, max)\n",
    "print(\"猜數字遊戲\")\n",
    "print(target)"
   ]
  },
  {
   "cell_type": "code",
   "execution_count": null,
   "metadata": {},
   "outputs": [
    {
     "name": "stdout",
     "output_type": "stream",
     "text": [
      "猜數字遊戲\n",
      "再大一點\n",
      "你已經猜了1次\n",
      "再大一點\n",
      "你已經猜了2次\n",
      "再小一點\n",
      "你已經猜了3次\n",
      "再大一點\n",
      "你已經猜了4次\n",
      "再小一點\n",
      "你已經猜了5次\n",
      "恭喜答對了,答案是:86\n",
      "你猜了6次\n",
      "應用程式結束\n"
     ]
    }
   ],
   "source": [
    "import random\n",
    "min = 1\n",
    "max = 100\n",
    "target = random.randint(min, max)\n",
    "count = 0\n",
    "print(\"猜數字遊戲\")\n",
    "while (True):\n",
    "    keyin = int(input(f\"猜數字範圍{min}~{max}:\"))\n",
    "    count += 1\n",
    "    if keyin <= max and keyin >= min:\n",
    "        if target == keyin:\n",
    "            print(f\"恭喜答對了,答案是:{target}\")\n",
    "            print(f\"你總共猜了{count}次\")\n",
    "            break\n",
    "        elif keyin > target:\n",
    "            print(\"再小一點\")\n",
    "            max = keyin - 1\n",
    "\n",
    "        elif keyin < target:\n",
    "            print(\"再大一點\")\n",
    "            min = keyin + 1\n",
    "\n",
    "        print(f\"你已經猜了{count}次\")\n",
    "        \n",
    "    else:\n",
    "        print(\"輸入範圍有錯誤!\")\n",
    "\n",
    "print(\"應用程式結束\")\n",
    "        "
   ]
  },
  {
   "cell_type": "code",
   "execution_count": null,
   "metadata": {},
   "outputs": [
    {
     "name": "stdout",
     "output_type": "stream",
     "text": [
      "75\n",
      "猜數字遊戲\n",
      "再大一點\n",
      "你已經猜了9次\n",
      "再大一點\n",
      "你已經猜了8次\n",
      "再大一點\n",
      "你已經猜了7次\n",
      "再大一點\n",
      "你已經猜了6次\n",
      "再大一點\n",
      "你已經猜了5次\n",
      "再大一點\n",
      "你已經猜了4次\n",
      "再大一點\n",
      "你已經猜了3次\n",
      "再小一點\n",
      "你已經猜了2次\n",
      "再小一點\n",
      "你已經猜了1次\n",
      "再小一點\n",
      "你已經猜了0次\n",
      "再大一點\n",
      "你已經猜了-1次\n",
      "恭喜答對了,答案是:75\n",
      "你總共猜了-2次\n",
      "gameover\n"
     ]
    }
   ],
   "source": [
    "import random\n",
    "while True:\n",
    "\n",
    "    min = 1\n",
    "    max = 100\n",
    "    target = random.randint(min, max)\n",
    "    count = 0\n",
    "    print(target)\n",
    "    print(\"猜數字遊戲\")\n",
    "    while (True):\n",
    "        keyin = int(input(f\"猜數字範圍{min}~{max}:\"))\n",
    "        count += 1\n",
    "        if keyin <= max and keyin >= min:\n",
    "            if target == keyin:\n",
    "                print(f\"恭喜答對了,答案是:{target}\")\n",
    "                print(f\"你總共猜了{count}次\")\n",
    "                break\n",
    "            elif keyin > target:\n",
    "                print(\"再小一點\")\n",
    "                max = keyin - 1\n",
    "\n",
    "            elif keyin < target:\n",
    "                print(\"再大一點\")\n",
    "                min = keyin + 1\n",
    "\n",
    "            print(f\"你已經猜了{count}次\")\n",
    "            \n",
    "        else:\n",
    "            print(\"輸入範圍有錯誤!\")\n",
    "    answering = input(\"請問還要繼續嗎?(y,n)\")\n",
    "    if answering == \"n\":\n",
    "        break\n",
    "print(\"gameover\")\n",
    "            "
   ]
  }
 ],
 "metadata": {
  "kernelspec": {
   "display_name": "base",
   "language": "python",
   "name": "python3"
  },
  "language_info": {
   "codemirror_mode": {
    "name": "ipython",
    "version": 3
   },
   "file_extension": ".py",
   "mimetype": "text/x-python",
   "name": "python",
   "nbconvert_exporter": "python",
   "pygments_lexer": "ipython3",
   "version": "3.12.3"
  }
 },
 "nbformat": 4,
 "nbformat_minor": 2
}
