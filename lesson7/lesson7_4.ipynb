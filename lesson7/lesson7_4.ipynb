{
 "cells": [
  {
   "cell_type": "code",
   "execution_count": 12,
   "metadata": {},
   "outputs": [
    {
     "name": "stdout",
     "output_type": "stream",
     "text": [
      "tw\n",
      "jp\n"
     ]
    },
    {
     "data": {
      "text/plain": [
       "(False, True)"
      ]
     },
     "execution_count": 12,
     "metadata": {},
     "output_type": "execute_result"
    }
   ],
   "source": [
    "data:dict = {\n",
    "    \"tw\" : \"Taiwan\",\n",
    "    \"jp\" : \"Japan\"\n",
    "}\n",
    "\n",
    "for key in data:\n",
    "    print(key)\n",
    "\n",
    "\"tw\" in data,\"us\" in data #tw有沒有在data裡面 若有顯示true沒有則顯示false\n",
    "\n",
    "\"tw\" not in data,\"us\" not in data\n"
   ]
  },
  {
   "cell_type": "code",
   "execution_count": 14,
   "metadata": {},
   "outputs": [],
   "source": [
    "if 'us' not in data:\n",
    "    print(\"執行\")\n",
    "    data['us'] = 'UnitedState'\n"
   ]
  }
 ],
 "metadata": {
  "kernelspec": {
   "display_name": "base",
   "language": "python",
   "name": "python3"
  },
  "language_info": {
   "codemirror_mode": {
    "name": "ipython",
    "version": 3
   },
   "file_extension": ".py",
   "mimetype": "text/x-python",
   "name": "python",
   "nbconvert_exporter": "python",
   "pygments_lexer": "ipython3",
   "version": "3.12.7"
  }
 },
 "nbformat": 4,
 "nbformat_minor": 2
}
