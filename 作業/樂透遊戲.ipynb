{
 "cells": [
  {
   "cell_type": "code",
   "execution_count": 25,
   "metadata": {},
   "outputs": [
    {
     "name": "stdout",
     "output_type": "stream",
     "text": [
      "本期大樂透電腦選號號碼如下:\n",
      "\n",
      "9 10 11 19 20 40 2\n",
      "\n",
      "特別號: 2\n"
     ]
    }
   ],
   "source": [
    "import random\n",
    "\n",
    "min = 1\n",
    "max = 49\n",
    "\n",
    "def main():\n",
    "    listnumber = random.sample(range(min,max),7)\n",
    "    specialnumb = listnumber[-1]\n",
    "    listnumber.pop()\n",
    "    listnumber.sort()\n",
    "    print(f\"本期大樂透電腦選號號碼如下:\\n\")\n",
    "    for number in listnumber:\n",
    "        print(number,end=\" \")\n",
    "    print(specialnumb)\n",
    "    print(f\"\\n特別號:\", specialnumb)\n",
    "\n",
    "if __name__ == '__main__':\n",
    "    main()\n"
   ]
  },
  {
   "cell_type": "code",
   "execution_count": 4,
   "metadata": {},
   "outputs": [
    {
     "name": "stdout",
     "output_type": "stream",
     "text": [
      "本期大樂透電腦選號號碼如下:\n",
      "3 5 18 24 32 34 40\n",
      "特別號: 40\n"
     ]
    }
   ],
   "source": [
    "import random\n",
    "\n",
    "def main():\n",
    "    listRandom = random.sample(range(1, 49), 7)\n",
    "    numSpecial = listRandom[-1]\n",
    "    listRandom.pop()\n",
    "    listRandom.sort()\n",
    "    print(\"本期大樂透電腦選號號碼如下:\")\n",
    "    for element in listRandom:\n",
    "        print(element, end=\" \")\n",
    "    print(numSpecial)\n",
    "    print(\"特別號:\", numSpecial)\n",
    "\n",
    "if __name__ == '__main__':\n",
    "    main()"
   ]
  },
  {
   "cell_type": "code",
   "execution_count": null,
   "metadata": {},
   "outputs": [
    {
     "name": "stdout",
     "output_type": "stream",
     "text": [
      "本期大樂透電腦選號號碼如下:\n",
      "\n",
      "5 9 10 29 31 41 \n",
      "\n",
      "特別號碼:21\n"
     ]
    }
   ],
   "source": [
    "import random\n",
    "\n",
    "min = 1\n",
    "max = 49\n",
    "\n",
    "def numbers():\n",
    "    normal_numbers = [] #=list(\"normal_number\")\n",
    "    random_numbers = random.sample(range(min,max),7) #從1~49的範圍中會隨機抽取7個號碼\n",
    "    normal_numbers = sorted(random_numbers[:6]) #會將隨機的號碼由小到大排序\n",
    "    special_number = random_numbers[-1] #隨機號碼中最後一個會被當作特別號碼\n",
    "    return normal_numbers,special_number\n",
    "    \n",
    "def main():\n",
    "    normal_numbers, special_number = numbers()\n",
    "    print(\"本期大樂透電腦選號號碼如下:\\n\")\n",
    "    for lotto in normal_numbers:\n",
    "        print(lotto,end=\" \")\n",
    "    print(\"\\n\")\n",
    "    print(f\"特別號碼:{special_number}\")\n",
    "    \n",
    "if __name__ == \"__main__\":\n",
    "    main()\n"
   ]
  }
 ],
 "metadata": {
  "kernelspec": {
   "display_name": "Python 3",
   "language": "python",
   "name": "python3"
  },
  "language_info": {
   "codemirror_mode": {
    "name": "ipython",
    "version": 3
   },
   "file_extension": ".py",
   "mimetype": "text/x-python",
   "name": "python",
   "nbconvert_exporter": "python",
   "pygments_lexer": "ipython3",
   "version": "3.11.3"
  }
 },
 "nbformat": 4,
 "nbformat_minor": 2
}
