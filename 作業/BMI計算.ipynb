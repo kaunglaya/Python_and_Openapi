{
 "cells": [
  {
   "cell_type": "code",
   "execution_count": null,
   "metadata": {},
   "outputs": [],
   "source": [
    "#請輸入身高(cm):xxx\n",
    "#請輸入體重(kg):xxxx\n",
    "#您的BMI是:xx\n",
    "#您的體重:xx"
   ]
  }
 ],
 "metadata": {
  "kernelspec": {
   "display_name": "base",
   "language": "python",
   "name": "python3"
  },
  "language_info": {
   "name": "python",
   "version": "3.12.2"
  }
 },
 "nbformat": 4,
 "nbformat_minor": 2
}
#BMI= 体重(公斤)/身高((公尺/100)**2)
try:
    height_cm = eval(input("请输入身高(公分): "))
    weight_kg = eval(input("请输入体重(公斤): "))
except Exception:
    print("發生錯誤")
else:
    m = height_cm/100
    bmi = int(weight_kg/(m ** 2))
    print(f'您的身高為{height_cm}公分')
    print(f'您的體重為{weight_kg}公斤')
    if bmi >= 25:
        print(f"您的BMI是{bmi}")
        print("您需要减肥搂")
    elif bmi >= 18:
        print(f"您的BMI是{bmi}")
        print("恭喜您，您是健康的")
    else:
        print(f"您的BMI是{bmi}")
        print("您太瘦了请多吃点蛋白質")
