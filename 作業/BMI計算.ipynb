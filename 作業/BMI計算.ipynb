{
 "cells": [
  {
   "cell_type": "code",
   "execution_count": 1,
   "metadata": {},
   "outputs": [
    {
     "name": "stdout",
     "output_type": "stream",
     "text": [
      "您的身高為168公分\n",
      "您的體重為80公斤\n",
      "您的BMI是28.34\n",
      "您是輕度度肥胖\n"
     ]
    }
   ],
   "source": [
    "#請輸入身高(cm):xxx\n",
    "#請輸入體重(kg):xxxx\n",
    "#您的BMI是:xx\n",
    "#您的體重:xx\n",
    "\n",
    "#BMI= 体重(公斤)/身高((公尺/100)**2)\n",
    "try:\n",
    "    height_cm = eval(input(\"请输入身高(公分): \"))\n",
    "    weight_kg = eval(input(\"请输入体重(公斤): \"))\n",
    "except Exception:\n",
    "    print(\"發生錯誤\")\n",
    "else:\n",
    "    m = height_cm/100\n",
    "    bmi = round(weight_kg/(m ** 2) , 2)\n",
    "    print(f'您的身高為{height_cm}公分')\n",
    "    print(f'您的體重為{weight_kg}公斤')\n",
    "    if bmi >=35:\n",
    "        print(f\"您的BMI是{bmi}\")\n",
    "        print(\"您是重度肥胖\")\n",
    "    elif bmi>=30:\n",
    "        print(f\"您的BMI是{bmi}\")\n",
    "        print(\"您是中度肥胖\")\n",
    "    elif bmi>=27:\n",
    "        print(f\"您的BMI是{bmi}\")\n",
    "        print(\"您是輕度度肥胖\")\n",
    "    elif bmi>=24:\n",
    "        print(f\"您的BMI是{bmi}\")\n",
    "        print(\"您的體重過重\")    \n",
    "    elif bmi<18.5:\n",
    "        print(f\"您的BMI是{bmi}\")\n",
    "        print(\"您的體重過輕\")\n",
    "    else:\n",
    "        print(f\"您的BMI是{bmi}\")\n",
    "        print(\"您的體重正常\")"
   ]
  }
 ],
 "metadata": {
  "kernelspec": {
   "display_name": "base",
   "language": "python",
   "name": "python3"
  },
  "language_info": {
   "codemirror_mode": {
    "name": "ipython",
    "version": 3
   },
   "file_extension": ".py",
   "mimetype": "text/x-python",
   "name": "python",
   "nbconvert_exporter": "python",
   "pygments_lexer": "ipython3",
   "version": "3.12.3"
  }
 },
 "nbformat": 4,
 "nbformat_minor": 2
}
