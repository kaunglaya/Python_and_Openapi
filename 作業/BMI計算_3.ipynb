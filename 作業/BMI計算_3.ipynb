{
 "cells": [
  {
   "cell_type": "markdown",
   "metadata": {},
   "source": [
    "###作業"
   ]
  },
  {
   "cell_type": "code",
   "execution_count": 4,
   "metadata": {},
   "outputs": [
    {
     "name": "stdout",
     "output_type": "stream",
     "text": [
      "您的BMI是:25.25\n",
      "您的體重是:80.0\n",
      "您的BMI指數:體重過重\n"
     ]
    }
   ],
   "source": [
    "class BMI:\n",
    "    def __init__(self,name:str,height:float,weight:float):\n",
    "        # attribute\n",
    "        self.name = name\n",
    "        self.height = height\n",
    "        self.weight = weight\n",
    "\n",
    "    # instance method\n",
    "    def get_status(self,bmi:float)->str:\n",
    "        outStatus = \"\"\n",
    "        if bmi >= 35 :\n",
    "            outStatus = '重度肥胖'\n",
    "        elif bmi >= 30 :\n",
    "            outStatus = '中度肥胖'\n",
    "        elif bmi >= 27 :\n",
    "            outStatus = '輕度肥胖'\n",
    "        elif bmi >= 24 :\n",
    "            outStatus = '體重過重'\n",
    "        elif bmi >= 18.5 :\n",
    "            outStatus = '正常範圍'\n",
    "        else :\n",
    "            outStatus = '體重過輕' \n",
    "        \n",
    "        return outStatus\n",
    "    \n",
    "    def get_BMI(self)->float:\n",
    "        return round(self.weight / ((self.height/100)**2), 2)\n",
    "        \n",
    "\n",
    "def main():\n",
    "    while(True):\n",
    "        try:\n",
    "            name = input(\"姓名:\")\n",
    "            height = float(input(\"請輸入身高(公分):\"))\n",
    "            weight = float(input(\"請輸入體重(公斤):\"))\n",
    "            p1 = BMI(name, height, weight)\n",
    "            break\n",
    "        except Exception:\n",
    "            print('輸入格式錯誤,請重新輸入!')\n",
    "\n",
    "    bmi = p1.get_BMI()    \n",
    "    print(f'您的BMI是:{bmi}')\n",
    "    print(f'您的體重是:{weight}')\n",
    "    print(f'您的BMI指數:{p1.get_status(bmi)}')\n",
    "\n",
    "if __name__ == '__main__':\n",
    "    main()"
   ]
  },
  {
   "cell_type": "code",
   "execution_count": null,
   "metadata": {},
   "outputs": [],
   "source": [
    "class BMI:\n",
    "    def __init__(self,name:str,height:eval,weight:eval):\n",
    "        # attribute\n",
    "        self.name = name\n",
    "        self.height = height\n",
    "        self.weight = weight\n",
    "\n",
    "try:\n",
    "    name = input(\"姓名:\")\n",
    "    height_cm = eval(input(\"请输入身高(公分): \"))\n",
    "    weight_kg = eval(input(\"请输入体重(公斤): \"))\n",
    "except Exception:\n",
    "    print(\"發生錯誤\")\n",
    "else:\n",
    "    m = height_cm/100\n",
    "    bmi = round(weight_kg/(m ** 2) , 2)\n",
    "    print(f'您的身高為{height_cm}公分')\n",
    "    print(f'您的體重為{weight_kg}公斤')\n",
    "    if bmi >=35:\n",
    "        print(f\"您的BMI是{bmi}\")\n",
    "        print(\"您是重度肥胖\")\n",
    "    elif bmi>=30:\n",
    "        print(f\"您的BMI是{bmi}\")\n",
    "        print(\"您是中度肥胖\")\n",
    "    elif bmi>=27:\n",
    "        print(f\"您的BMI是{bmi}\")\n",
    "        print(\"您是輕度度肥胖\")\n",
    "    elif bmi>=24:\n",
    "        print(f\"您的BMI是{bmi}\")\n",
    "        print(\"您的體重過重\")    \n",
    "    elif bmi<18.5:\n",
    "        print(f\"您的BMI是{bmi}\")\n",
    "        print(\"您的體重過輕\")\n",
    "    else:\n",
    "        print(f\"您的BMI是{bmi}\")\n",
    "        print(\"您的體重正常\")"
   ]
  }
 ],
 "metadata": {
  "kernelspec": {
   "display_name": "Python 3",
   "language": "python",
   "name": "python3"
  },
  "language_info": {
   "codemirror_mode": {
    "name": "ipython",
    "version": 3
   },
   "file_extension": ".py",
   "mimetype": "text/x-python",
   "name": "python",
   "nbconvert_exporter": "python",
   "pygments_lexer": "ipython3",
   "version": "3.12.7"
  }
 },
 "nbformat": 4,
 "nbformat_minor": 2
}
