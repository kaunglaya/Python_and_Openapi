{
 "cells": [
  {
   "cell_type": "code",
   "execution_count": null,
   "metadata": {},
   "outputs": [],
   "source": [
    "import random\n",
    "def play_game():\n",
    "    min = 1\n",
    "    max = 100\n",
    "    target = random.randint(min, max)\n",
    "    count = 0\n",
    "    print(target)\n",
    "    print(\"猜數字遊戲\")\n",
    "    while (True):\n",
    "        keyin = int(input(f\"猜數字範圍{min}~{max}:\"))\n",
    "        count += 1\n",
    "        if keyin <= max and keyin >= min:\n",
    "            if target == keyin:\n",
    "                print(f\"恭喜答對了,答案是:{target}\")\n",
    "                print(f\"你總共猜了{count}次\")\n",
    "                break\n",
    "            elif keyin > target:\n",
    "                print(\"再小一點\")\n",
    "                max = keyin - 1\n",
    "\n",
    "            elif keyin < target:\n",
    "                print(\"再大一點\")\n",
    "                min = keyin + 1\n",
    "\n",
    "            print(f\"你已經猜了{count}次\")\n",
    "            \n",
    "        else:\n",
    "            print(\"輸入範圍有錯誤!\")     \n",
    "while True:\n",
    "    play_game()\n",
    "    answering = input(\"請問還要繼續嗎?(y,n)\")\n",
    "    if answering == \"n\":\n",
    "        break\n",
    "print(\"GameOver\")\n",
    "            "
   ]
  }
 ],
 "metadata": {
  "language_info": {
   "name": "python"
  }
 },
 "nbformat": 4,
 "nbformat_minor": 2
}
